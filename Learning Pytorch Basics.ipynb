{
 "cells": [
  {
   "cell_type": "markdown",
   "metadata": {},
   "source": [
    "# Learning Pytorch Basics"
   ]
  },
  {
   "cell_type": "code",
   "execution_count": 2,
   "metadata": {},
   "outputs": [],
   "source": [
    "import torch"
   ]
  },
  {
   "cell_type": "code",
   "execution_count": 6,
   "metadata": {},
   "outputs": [
    {
     "name": "stdout",
     "output_type": "stream",
     "text": [
      "tensor([ 0.0000e+00, -4.6566e-10,  7.4378e+13,  2.0005e+00,  1.1402e-30])\n",
      "tensor([[ 0.0000e+00, -4.6566e-10,  7.4399e+13],\n",
      "        [ 1.0845e-19, -3.6894e+19,  1.0446e+02],\n",
      "        [ 0.0000e+00,  2.0001e+00,  2.0000e+00],\n",
      "        [ 3.4928e-04,  1.4013e-45,  0.0000e+00],\n",
      "        [ 0.0000e+00, -4.6566e-10,  7.4397e+13]])\n"
     ]
    }
   ],
   "source": [
    "#Construct 5 empty, uninitialized:\n",
    "x = torch.empty(5)\n",
    "print(x)\n",
    "#Construct a 5x3 matrix, uninitialized:\n",
    "x = torch.empty(5,3)\n",
    "print(x)"
   ]
  },
  {
   "cell_type": "code",
   "execution_count": 13,
   "metadata": {},
   "outputs": [
    {
     "name": "stdout",
     "output_type": "stream",
     "text": [
      "tensor([[0.5375, 0.1566, 0.4623],\n",
      "        [0.6512, 0.8593, 0.7143],\n",
      "        [0.0693, 0.0313, 0.3630],\n",
      "        [0.9025, 0.4619, 0.9500],\n",
      "        [0.8488, 0.1385, 0.0900]])\n"
     ]
    }
   ],
   "source": [
    "#Constructing randomized 5x3 Matrix\n",
    "x = torch.rand(5,3)\n",
    "print(x)"
   ]
  },
  {
   "cell_type": "code",
   "execution_count": 16,
   "metadata": {},
   "outputs": [
    {
     "name": "stdout",
     "output_type": "stream",
     "text": [
      "tensor([[0, 0, 0],\n",
      "        [0, 0, 0],\n",
      "        [0, 0, 0],\n",
      "        [0, 0, 0],\n",
      "        [0, 0, 0]])\n"
     ]
    }
   ],
   "source": [
    "#Constructing randomized 5x3 with zeros \n",
    "x= torch.zeros(5,3,dtype= torch.long)\n",
    "print(x)"
   ]
  },
  {
   "cell_type": "code",
   "execution_count": 18,
   "metadata": {},
   "outputs": [
    {
     "name": "stdout",
     "output_type": "stream",
     "text": [
      "tensor([5.4000, 3.0000])\n"
     ]
    }
   ],
   "source": [
    "#Constructing a tensor directly from the data \n",
    "x = torch.tensor([5.4,3])\n",
    "print(x)"
   ]
  },
  {
   "cell_type": "code",
   "execution_count": 22,
   "metadata": {},
   "outputs": [
    {
     "name": "stdout",
     "output_type": "stream",
     "text": [
      "tensor([[0.9370, 0.0049, 0.4875],\n",
      "        [0.3693, 0.5424, 0.6939],\n",
      "        [0.4644, 0.0488, 0.3529],\n",
      "        [0.3243, 0.4094, 0.3259],\n",
      "        [0.1197, 0.9680, 0.8403]])\n"
     ]
    }
   ],
   "source": [
    "#Creating a tensor from an existing datatype\n",
    "\n",
    "x = torch.zeros(5,3,dtype=torch.long)\n",
    "\n",
    "x = torch.rand_like(x,dtype= torch.float)\n",
    "\n",
    "print(x)"
   ]
  },
  {
   "cell_type": "code",
   "execution_count": 24,
   "metadata": {},
   "outputs": [
    {
     "name": "stdout",
     "output_type": "stream",
     "text": [
      "torch.Size([5, 3])\n"
     ]
    }
   ],
   "source": [
    "#Get the size of a tensor \n",
    "\n",
    "print(x.size())"
   ]
  },
  {
   "cell_type": "markdown",
   "metadata": {},
   "source": [
    "# Operations"
   ]
  },
  {
   "cell_type": "code",
   "execution_count": 26,
   "metadata": {},
   "outputs": [
    {
     "name": "stdout",
     "output_type": "stream",
     "text": [
      "tensor([[0.4185, 0.8742, 0.4164],\n",
      "        [0.4195, 0.5481, 0.5949],\n",
      "        [0.6831, 0.2599, 0.9327],\n",
      "        [0.4801, 0.6616, 0.0079],\n",
      "        [0.1232, 0.4802, 0.4668]])\n"
     ]
    }
   ],
   "source": [
    "y = torch.rand(5,3)\n",
    "print(y)"
   ]
  },
  {
   "cell_type": "code",
   "execution_count": 30,
   "metadata": {},
   "outputs": [
    {
     "name": "stdout",
     "output_type": "stream",
     "text": [
      "tensor([[1.3554, 0.8791, 0.9039],\n",
      "        [0.7888, 1.0906, 1.2888],\n",
      "        [1.1476, 0.3087, 1.2857],\n",
      "        [0.8044, 1.0710, 0.3338],\n",
      "        [0.2429, 1.4481, 1.3071]])\n"
     ]
    }
   ],
   "source": [
    "#syntax 1 \n",
    "print(x+y)"
   ]
  },
  {
   "cell_type": "code",
   "execution_count": 31,
   "metadata": {},
   "outputs": [
    {
     "name": "stdout",
     "output_type": "stream",
     "text": [
      "tensor([[1.3554, 0.8791, 0.9039],\n",
      "        [0.7888, 1.0906, 1.2888],\n",
      "        [1.1476, 0.3087, 1.2857],\n",
      "        [0.8044, 1.0710, 0.3338],\n",
      "        [0.2429, 1.4481, 1.3071]])\n"
     ]
    }
   ],
   "source": [
    "#syntax 2\n",
    "print(torch.add(x,y))"
   ]
  },
  {
   "cell_type": "markdown",
   "metadata": {},
   "source": [
    "## providing an output tensor as argument\n",
    "\n"
   ]
  },
  {
   "cell_type": "code",
   "execution_count": 33,
   "metadata": {},
   "outputs": [
    {
     "name": "stdout",
     "output_type": "stream",
     "text": [
      "tensor([[1.3554, 0.8791, 0.9039],\n",
      "        [0.7888, 1.0906, 1.2888],\n",
      "        [1.1476, 0.3087, 1.2857],\n",
      "        [0.8044, 1.0710, 0.3338],\n",
      "        [0.2429, 1.4481, 1.3071]])\n"
     ]
    }
   ],
   "source": [
    "result = torch.empty(5,3)\n",
    "torch.add(x,y, out = result)\n",
    "print(result)"
   ]
  },
  {
   "cell_type": "code",
   "execution_count": 35,
   "metadata": {},
   "outputs": [
    {
     "name": "stdout",
     "output_type": "stream",
     "text": [
      "tensor([[2.2924, 0.8841, 1.3914],\n",
      "        [1.1582, 1.6330, 1.9828],\n",
      "        [1.6120, 0.3576, 1.6386],\n",
      "        [1.1287, 1.4805, 0.6596],\n",
      "        [0.3626, 2.4161, 2.1473]])\n"
     ]
    }
   ],
   "source": [
    "#addition in place\n",
    "# adds x to y\n",
    "y.add_(x)\n",
    "print(y)"
   ]
  },
  {
   "cell_type": "code",
   "execution_count": 44,
   "metadata": {},
   "outputs": [
    {
     "name": "stdout",
     "output_type": "stream",
     "text": [
      "tensor([0.0049, 0.5424, 0.0488, 0.4094, 0.9680])\n"
     ]
    }
   ],
   "source": [
    "#indexing and printing \n",
    "print(x[:,1])"
   ]
  },
  {
   "cell_type": "code",
   "execution_count": 48,
   "metadata": {},
   "outputs": [
    {
     "name": "stdout",
     "output_type": "stream",
     "text": [
      "torch.Size([4, 4]) torch.Size([16]) torch.Size([2, 8])\n"
     ]
    }
   ],
   "source": [
    "#Resizing: If you want to resize/reshape tensor, you can use torch.view:\n",
    "x  =torch.randn(4,4)\n",
    "y = x.view(16)\n",
    "z = x.view(-1,8)\n",
    "print(x.size(),y.size(),z.size())"
   ]
  },
  {
   "cell_type": "code",
   "execution_count": 53,
   "metadata": {},
   "outputs": [
    {
     "name": "stdout",
     "output_type": "stream",
     "text": [
      "tensor([ 0.0069,  0.1560,  1.1981, -0.3258, -0.1495,  0.6767,  2.5759, -0.0536,\n",
      "         0.0165,  0.8406, -0.1742, -0.3860,  0.2574,  0.5984,  0.1393, -1.0650])\n",
      "tensor([[ 0.0069,  0.1560,  1.1981, -0.3258, -0.1495,  0.6767,  2.5759, -0.0536],\n",
      "        [ 0.0165,  0.8406, -0.1742, -0.3860,  0.2574,  0.5984,  0.1393, -1.0650]])\n"
     ]
    }
   ],
   "source": [
    "print(y)\n",
    "print(z)"
   ]
  },
  {
   "cell_type": "code",
   "execution_count": 55,
   "metadata": {},
   "outputs": [
    {
     "name": "stdout",
     "output_type": "stream",
     "text": [
      "tensor([-0.7892])\n",
      "-0.7892212271690369\n"
     ]
    }
   ],
   "source": [
    "# have a one element tensor, use .item() to get the value as a Python number\n",
    "\n",
    "x = torch.randn(1)\n",
    "print(x)\n",
    "print(x.item())"
   ]
  },
  {
   "cell_type": "markdown",
   "metadata": {},
   "source": [
    "# NUMPY To Tensor and Tensor To NUMPY"
   ]
  },
  {
   "cell_type": "markdown",
   "metadata": {},
   "source": [
    "## Torch Tensor to a NumPy Array"
   ]
  },
  {
   "cell_type": "code",
   "execution_count": 61,
   "metadata": {},
   "outputs": [
    {
     "name": "stdout",
     "output_type": "stream",
     "text": [
      "tensor([ 1.6665,  0.3484,  1.0953, -1.2449,  0.4130,  0.0505,  0.3711, -0.1370,\n",
      "        -0.6423,  0.7896, -0.9151,  0.8831])\n"
     ]
    }
   ],
   "source": [
    "a = torch.randn(12)\n",
    "print(a)"
   ]
  },
  {
   "cell_type": "code",
   "execution_count": 63,
   "metadata": {},
   "outputs": [
    {
     "name": "stdout",
     "output_type": "stream",
     "text": [
      "[ 1.6664938   0.3483733   1.0953215  -1.2448642   0.4130459   0.05045652\n",
      "  0.37106064 -0.13696414 -0.64230376  0.7895807  -0.91509163  0.8830803 ]\n"
     ]
    }
   ],
   "source": [
    "b = a.numpy()\n",
    "print(b)"
   ]
  },
  {
   "cell_type": "markdown",
   "metadata": {},
   "source": [
    "## NumPy Array to a Torch Tensor"
   ]
  },
  {
   "cell_type": "code",
   "execution_count": 70,
   "metadata": {},
   "outputs": [
    {
     "name": "stdout",
     "output_type": "stream",
     "text": [
      "[1. 1. 1. 1. 1.]\n"
     ]
    }
   ],
   "source": [
    "import numpy as np\n",
    "a = np.ones(5)\n",
    "print(a)"
   ]
  },
  {
   "cell_type": "code",
   "execution_count": 72,
   "metadata": {},
   "outputs": [
    {
     "name": "stdout",
     "output_type": "stream",
     "text": [
      "tensor([1., 1., 1., 1., 1.], dtype=torch.float64)\n"
     ]
    }
   ],
   "source": [
    "b = torch.from_numpy(a)\n",
    "print(b)"
   ]
  }
 ],
 "metadata": {
  "kernelspec": {
   "display_name": "Python 3",
   "language": "python",
   "name": "python3"
  },
  "language_info": {
   "codemirror_mode": {
    "name": "ipython",
    "version": 3
   },
   "file_extension": ".py",
   "mimetype": "text/x-python",
   "name": "python",
   "nbconvert_exporter": "python",
   "pygments_lexer": "ipython3",
   "version": "3.7.1"
  }
 },
 "nbformat": 4,
 "nbformat_minor": 2
}
